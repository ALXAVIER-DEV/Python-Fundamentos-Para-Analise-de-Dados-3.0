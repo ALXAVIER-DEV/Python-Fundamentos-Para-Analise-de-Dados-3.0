{
  "nbformat": 4,
  "nbformat_minor": 0,
  "metadata": {
    "colab": {
      "name": "intro.ipynb",
      "private_outputs": true,
      "provenance": [],
      "mount_file_id": "1u2vcdDwW0U9I_ntsPSc7vH6XxGv3yFZl",
      "authorship_tag": "ABX9TyMqUTmiv7NIAAnvJSKH+bbt",
      "include_colab_link": true
    },
    "kernelspec": {
      "name": "python3",
      "display_name": "Python 3"
    },
    "language_info": {
      "name": "python"
    },
    "gpuClass": "standard"
  },
  "cells": [
    {
      "cell_type": "markdown",
      "metadata": {
        "id": "view-in-github",
        "colab_type": "text"
      },
      "source": [
        "<a href=\"https://colab.research.google.com/github/ALXAVIER-DEV/Python-Fundamentos-Para-Analise-de-Dados-3.0/blob/main/intro.ipynb\" target=\"_parent\"><img src=\"https://colab.research.google.com/assets/colab-badge.svg\" alt=\"Open In Colab\"/></a>"
      ]
    },
    {
      "cell_type": "code",
      "execution_count": null,
      "metadata": {
        "id": "DXyYpKbmVyOQ"
      },
      "outputs": [],
      "source": [
        ""
      ]
    },
    {
      "cell_type": "markdown",
      "source": [
        "# Nova seção"
      ],
      "metadata": {
        "id": "en36cFvNWU3O"
      }
    }
  ]
}