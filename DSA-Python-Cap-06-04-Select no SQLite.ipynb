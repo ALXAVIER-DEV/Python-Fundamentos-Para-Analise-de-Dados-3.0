{
 "cells": [
  {
   "cell_type": "code",
   "execution_count": 2,
   "id": "10dc2fa9",
   "metadata": {},
   "outputs": [],
   "source": [
    "import sqlite3\n",
    "import random\n",
    "import time\n",
    "import datetime\n",
    "\n",
    "# Criando uma conexão \n",
    "conn = sqlite3.connect('dsa.db')\n",
    "\n",
    "# Criando um cursor\n",
    "c = conn.cursor()\n",
    "\n",
    "# Função para criar uma tabela\n",
    "\n",
    "def create_table():\n",
    "    c.execute('CREATE TABLE IF NOT EXISTS produtos(id INTEGER PRIMARY KEY AUTOINCREMENT NOT NULL, data TEXT, '\\\n",
    "              'prod_name TEXT, valor REAL)')\n",
    "# Função para inserir uma linha\n",
    "def data_insert():\n",
    "    c.execute(\"INSERT INTO produtos VALUES(002, '02-05-2016', 'teclado', 130)\")\n",
    "    conn.commit()\n",
    "    c.close()\n",
    "    conn.close()\n",
    "# Usando variáveis para insert de dados\n",
    "\n",
    "def data_insert_var():\n",
    "    new_date = datetime.datetime.now()\n",
    "    new_prod_name = 'monitor'\n",
    "    new_valor = random.randrange(50,100)\n",
    "    c.execute(\"INSERT INTO produtos (data, prod_name, valor) VALUES (?, ?, ?)\", (new_date, new_prod_name, new_valor))\n",
    "    conn.commit()\n",
    "# Leitura dos dados \n",
    "def leitura_todos_dados():\n",
    "    c.execute(\"SELECT * FROM produtos\")\n",
    "    for linha in c.fetchall():\n",
    "        print(linha)\n",
    "        \n",
    "# Leitura de registros especificos\n",
    "def leitura_registros():\n",
    "    c.execute(\"SELECT * FROM PRODUTOS WHERE valor > 60.0\")\n",
    "    for linha in c.fetchall():\n",
    "        print(linha)\n",
    "        \n",
    "# Leitura de colunas específicas\n",
    "def leitura_colunas():\n",
    "    c.execute(\"SELECT * FROM PRODUTOS\")\n",
    "    for linha in c.fetchall():\n",
    "        print(linha[3])\n",
    "    "
   ]
  },
  {
   "cell_type": "code",
   "execution_count": 3,
   "id": "02da09c5",
   "metadata": {},
   "outputs": [
    {
     "name": "stdout",
     "output_type": "stream",
     "text": [
      "(10, '2018-05-02 14:32:11', 'Teclado', 90.0)\n",
      "(11, '2021-10-13 16:26:32.840715', 'Monitor', 59.0)\n",
      "(12, '2021-10-13 16:26:33.850750', 'Monitor', 98.0)\n",
      "(13, '2021-10-13 16:26:34.860858', 'Monitor', 64.0)\n",
      "(14, '2021-10-13 16:26:35.871332', 'Monitor', 63.0)\n",
      "(15, '2021-10-13 16:26:36.881346', 'Monitor', 96.0)\n",
      "(16, '2021-10-13 16:26:37.885573', 'Monitor', 83.0)\n",
      "(17, '2021-10-13 16:26:38.893378', 'Monitor', 63.0)\n",
      "(18, '2021-10-13 16:26:39.899311', 'Monitor', 97.0)\n",
      "(19, '2021-10-13 16:26:40.906611', 'Monitor', 77.0)\n",
      "(20, '2021-10-13 16:26:41.913486', 'Monitor', 54.0)\n"
     ]
    }
   ],
   "source": [
    "# Select nos dados\n",
    "leitura_todos_dados()"
   ]
  },
  {
   "cell_type": "code",
   "execution_count": 6,
   "id": "f39972fe",
   "metadata": {},
   "outputs": [
    {
     "name": "stdout",
     "output_type": "stream",
     "text": [
      "(10, '2018-05-02 14:32:11', 'Teclado', 90.0)\n",
      "(12, '2021-10-13 16:26:33.850750', 'Monitor', 98.0)\n",
      "(13, '2021-10-13 16:26:34.860858', 'Monitor', 64.0)\n",
      "(14, '2021-10-13 16:26:35.871332', 'Monitor', 63.0)\n",
      "(15, '2021-10-13 16:26:36.881346', 'Monitor', 96.0)\n",
      "(16, '2021-10-13 16:26:37.885573', 'Monitor', 83.0)\n",
      "(17, '2021-10-13 16:26:38.893378', 'Monitor', 63.0)\n",
      "(18, '2021-10-13 16:26:39.899311', 'Monitor', 97.0)\n",
      "(19, '2021-10-13 16:26:40.906611', 'Monitor', 77.0)\n"
     ]
    }
   ],
   "source": [
    "# Leitura de registros específicos \n",
    "leitura_registros()"
   ]
  },
  {
   "cell_type": "code",
   "execution_count": 5,
   "id": "5a075d80",
   "metadata": {},
   "outputs": [
    {
     "name": "stdout",
     "output_type": "stream",
     "text": [
      "('Teclado', 90.0)\n",
      "('Monitor', 59.0)\n",
      "('Monitor', 98.0)\n",
      "('Monitor', 64.0)\n",
      "('Monitor', 63.0)\n",
      "('Monitor', 96.0)\n",
      "('Monitor', 83.0)\n",
      "('Monitor', 63.0)\n",
      "('Monitor', 97.0)\n",
      "('Monitor', 77.0)\n",
      "('Monitor', 54.0)\n"
     ]
    }
   ],
   "source": [
    "# Leitura de colunas específicas\n",
    "leitura_colunas()"
   ]
  },
  {
   "cell_type": "code",
   "execution_count": 7,
   "id": "a83acff3",
   "metadata": {},
   "outputs": [],
   "source": [
    "# Encerrando a conexão \n",
    "c.close()\n",
    "conn.close()"
   ]
  },
  {
   "cell_type": "code",
   "execution_count": null,
   "id": "9c237a0d",
   "metadata": {},
   "outputs": [],
   "source": []
  }
 ],
 "metadata": {
  "kernelspec": {
   "display_name": "Python 3 (ipykernel)",
   "language": "python",
   "name": "python3"
  },
  "language_info": {
   "codemirror_mode": {
    "name": "ipython",
    "version": 3
   },
   "file_extension": ".py",
   "mimetype": "text/x-python",
   "name": "python",
   "nbconvert_exporter": "python",
   "pygments_lexer": "ipython3",
   "version": "3.7.7"
  }
 },
 "nbformat": 4,
 "nbformat_minor": 5
}
