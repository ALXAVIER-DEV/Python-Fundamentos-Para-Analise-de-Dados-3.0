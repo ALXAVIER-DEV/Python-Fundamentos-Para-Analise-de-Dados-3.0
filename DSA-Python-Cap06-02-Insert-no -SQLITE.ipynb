{
 "cells": [
  {
   "cell_type": "markdown",
   "id": "bff9820b",
   "metadata": {},
   "source": [
    "## Criando o Banco de Dados e Inserindo Dados"
   ]
  },
  {
   "cell_type": "code",
   "execution_count": 2,
   "id": "03aed439",
   "metadata": {},
   "outputs": [],
   "source": [
    "# Removendo o arquivo com o banco de dados SQLite (if exists)\n",
    "import os \n",
    "os.remove (\"dsa.db\") if os.path.exists(\"dsa.db\") else None"
   ]
  },
  {
   "cell_type": "code",
   "execution_count": 1,
   "id": "af67d689",
   "metadata": {},
   "outputs": [],
   "source": [
    "import sqlite3\n",
    "\n",
    "# Criando uma conn\n",
    "conn = sqlite3.connect(\"dsa.db\")\n",
    "\n",
    "#criando um cursor\n",
    "c = conn.cursor()\n",
    "\n",
    "# Criando um funcao create table \n",
    "def create_table():\n",
    "    c.execute('CREATE TABLE IF NOT EXISTS produtos(id INTEGER PRIMARY KEY AUTOINCREMENT NOT NULL, data TEXT,'\\\n",
    "              'prod_name TEXT, valor REAL) ')\n",
    "    \n",
    "    # Funcao para insert\n",
    "    \n",
    "def data_insert():\n",
    "    c.execute(\"INSERT INTO produtos VALUES (10, '2018-05-02 14:32:11', 'Teclado', 90)\")\n",
    "    conn.commit()\n",
    "    c.close()\n",
    "    conn.close()"
   ]
  },
  {
   "cell_type": "code",
   "execution_count": 2,
   "id": "69f7aa04",
   "metadata": {},
   "outputs": [],
   "source": [
    "# Criar tablelas\n",
    "create_table()"
   ]
  },
  {
   "cell_type": "code",
   "execution_count": 3,
   "id": "cfb460bd",
   "metadata": {},
   "outputs": [],
   "source": [
    "# Inserindo dados\n",
    "data_insert()"
   ]
  },
  {
   "cell_type": "code",
   "execution_count": null,
   "id": "8290ddcd",
   "metadata": {},
   "outputs": [],
   "source": []
  },
  {
   "cell_type": "code",
   "execution_count": null,
   "id": "f1bdd5bb",
   "metadata": {},
   "outputs": [],
   "source": []
  }
 ],
 "metadata": {
  "kernelspec": {
   "display_name": "Python 3 (ipykernel)",
   "language": "python",
   "name": "python3"
  },
  "language_info": {
   "codemirror_mode": {
    "name": "ipython",
    "version": 3
   },
   "file_extension": ".py",
   "mimetype": "text/x-python",
   "name": "python",
   "nbconvert_exporter": "python",
   "pygments_lexer": "ipython3",
   "version": "3.7.7"
  }
 },
 "nbformat": 4,
 "nbformat_minor": 5
}
