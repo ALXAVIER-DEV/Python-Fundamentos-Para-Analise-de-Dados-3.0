{
 "cells": [
  {
   "cell_type": "markdown",
   "id": "2f9905b6",
   "metadata": {},
   "source": [
    "## Acessando Banco de Dados com Python\n"
   ]
  },
  {
   "cell_type": "code",
   "execution_count": 3,
   "id": "a47f3c2d",
   "metadata": {},
   "outputs": [
    {
     "ename": "FileNotFoundError",
     "evalue": "[Errno 2] No such file or directory: 'escola_db'",
     "output_type": "error",
     "traceback": [
      "\u001b[0;31m---------------------------------------------------------------------------\u001b[0m",
      "\u001b[0;31mFileNotFoundError\u001b[0m                         Traceback (most recent call last)",
      "\u001b[0;32m/var/folders/tw/vjs5r7ms7d34lprk45jtgv4r0000gn/T/ipykernel_2974/1399911802.py\u001b[0m in \u001b[0;36m<module>\u001b[0;34m\u001b[0m\n\u001b[1;32m      1\u001b[0m \u001b[0;31m#Removendo aquivo de banco de dados SQLite(if exists)\u001b[0m\u001b[0;34m\u001b[0m\u001b[0;34m\u001b[0m\u001b[0;34m\u001b[0m\u001b[0m\n\u001b[1;32m      2\u001b[0m \u001b[0;32mimport\u001b[0m \u001b[0mos\u001b[0m\u001b[0;34m\u001b[0m\u001b[0;34m\u001b[0m\u001b[0m\n\u001b[0;32m----> 3\u001b[0;31m \u001b[0mos\u001b[0m\u001b[0;34m.\u001b[0m\u001b[0mremove\u001b[0m\u001b[0;34m(\u001b[0m\u001b[0;34m\"escola_db\"\u001b[0m\u001b[0;34m)\u001b[0m \u001b[0;32mif\u001b[0m \u001b[0mos\u001b[0m\u001b[0;34m.\u001b[0m\u001b[0mpath\u001b[0m\u001b[0;34m.\u001b[0m\u001b[0mexists\u001b[0m\u001b[0;34m(\u001b[0m\u001b[0;34m\"escola.db\"\u001b[0m\u001b[0;34m)\u001b[0m \u001b[0;32melse\u001b[0m \u001b[0;32mNone\u001b[0m\u001b[0;34m\u001b[0m\u001b[0;34m\u001b[0m\u001b[0m\n\u001b[0m",
      "\u001b[0;31mFileNotFoundError\u001b[0m: [Errno 2] No such file or directory: 'escola_db'"
     ]
    }
   ],
   "source": [
    "#Removendo aquivo de banco de dados SQLite(if exists)\n",
    "import os \n",
    "os.remove(\"escola_db\") if os.path.exists(\"escola.db\") else None"
   ]
  },
  {
   "cell_type": "code",
   "execution_count": 4,
   "id": "c27fc267",
   "metadata": {},
   "outputs": [],
   "source": [
    "# Importando o modulo de acesso ao SQLite\n",
    "import sqlite3"
   ]
  },
  {
   "cell_type": "code",
   "execution_count": 5,
   "id": "eda416a9",
   "metadata": {},
   "outputs": [],
   "source": [
    "#Cria uma conexao com o banco de dados\n",
    "#Se o banco de dados existir, ele sera criado neste momento.\n",
    "con = sqlite3.connect(\"escola.db\")"
   ]
  },
  {
   "cell_type": "code",
   "execution_count": 6,
   "id": "b36c6c05",
   "metadata": {},
   "outputs": [
    {
     "data": {
      "text/plain": [
       "sqlite3.Connection"
      ]
     },
     "execution_count": 6,
     "metadata": {},
     "output_type": "execute_result"
    }
   ],
   "source": [
    "type(con)"
   ]
  },
  {
   "cell_type": "code",
   "execution_count": 7,
   "id": "371d8372",
   "metadata": {},
   "outputs": [],
   "source": [
    "# Criando um cursor \n",
    "cur = con.cursor()"
   ]
  },
  {
   "cell_type": "code",
   "execution_count": 8,
   "id": "0ace5316",
   "metadata": {},
   "outputs": [
    {
     "data": {
      "text/plain": [
       "sqlite3.Cursor"
      ]
     },
     "execution_count": 8,
     "metadata": {},
     "output_type": "execute_result"
    }
   ],
   "source": [
    "type(cur)"
   ]
  },
  {
   "cell_type": "code",
   "execution_count": 9,
   "id": "7984962a",
   "metadata": {},
   "outputs": [],
   "source": [
    "# Criando uma instrucao sql\n",
    "sql_create = 'create table if not exists cursos '\\\n",
    "'(id integer prymari key,'\\\n",
    "'titulo varchar(100),'\\\n",
    "'categoria varchar(140))'\n"
   ]
  },
  {
   "cell_type": "code",
   "execution_count": 10,
   "id": "38c02f65",
   "metadata": {},
   "outputs": [
    {
     "data": {
      "text/plain": [
       "<sqlite3.Cursor at 0x1048c66c0>"
      ]
     },
     "execution_count": 10,
     "metadata": {},
     "output_type": "execute_result"
    }
   ],
   "source": [
    "# Executando a instrucao sql no cursor\n",
    "cur.execute(sql_create)"
   ]
  },
  {
   "cell_type": "code",
   "execution_count": 11,
   "id": "1071e175",
   "metadata": {},
   "outputs": [],
   "source": [
    "# Criando outro instrucao sql insert de registros\n",
    "sql_insert = 'insert into cursos values(?, ?, ?)'\n"
   ]
  },
  {
   "cell_type": "code",
   "execution_count": 12,
   "id": "adbe34c7",
   "metadata": {},
   "outputs": [],
   "source": [
    "# Dados para a tabela \n",
    "recset = [(1000,'Ciencia de Dados','Data Science'),\n",
    "          (1001, 'Big Data Fundamentos','Big Data'),\n",
    "          (1002, 'Python Fundamentos', 'Analise de Dados')]\n",
    "\n",
    "\n"
   ]
  },
  {
   "cell_type": "code",
   "execution_count": 13,
   "id": "a8ca491b",
   "metadata": {},
   "outputs": [],
   "source": [
    "# Inserindo os registros \n",
    "for rec in recset:\n",
    "    cur.execute(sql_insert, rec)"
   ]
  },
  {
   "cell_type": "code",
   "execution_count": 14,
   "id": "8b5f36b6",
   "metadata": {},
   "outputs": [],
   "source": [
    "# Gravando transacao\n",
    "con.commit()"
   ]
  },
  {
   "cell_type": "code",
   "execution_count": 15,
   "id": "962785b4",
   "metadata": {},
   "outputs": [],
   "source": [
    "# Criando outra instrucao SQL para selecionar registros\n",
    "sql_select = 'select * from cursos'\n"
   ]
  },
  {
   "cell_type": "code",
   "execution_count": 16,
   "id": "4a02d272",
   "metadata": {},
   "outputs": [],
   "source": [
    "# Selecionar todos os registros e recupera os registros\n",
    "cur.execute(sql_select)\n",
    "dados = cur.fetchall()"
   ]
  },
  {
   "cell_type": "code",
   "execution_count": 17,
   "id": "81956d93",
   "metadata": {},
   "outputs": [
    {
     "name": "stdout",
     "output_type": "stream",
     "text": [
      "Curso id: 1000, Titulo: Ciencia de Dados, Categoria: Data Science \n",
      " \n",
      "Curso id: 1001, Titulo: Big Data Fundamentos, Categoria: Big Data \n",
      " \n",
      "Curso id: 1002, Titulo: Python Fundamentos, Categoria: Analise de Dados \n",
      " \n"
     ]
    }
   ],
   "source": [
    "# Mostra\n",
    "for linha in dados:\n",
    "    print('Curso id: %d, Titulo: %s, Categoria: %s \\n '% linha)"
   ]
  },
  {
   "cell_type": "code",
   "execution_count": 21,
   "id": "b425cc11",
   "metadata": {},
   "outputs": [],
   "source": [
    "# Gerando novos registros\n",
    "recset = [(1003, 'Gestao de Dados com MongoDB', 'Big Data'),\n",
    "          (1004, 'R Fundamentos', 'Analise de Dados')]\n",
    "\n",
    "# Inserindo os registros \n",
    "for rec in recset:\n",
    "    cur.execute(sql_insert, rec)\n",
    "    \n",
    "# Gravando a transacao\n",
    "\n",
    "con.commit()"
   ]
  },
  {
   "cell_type": "code",
   "execution_count": 22,
   "id": "d85d5d32",
   "metadata": {},
   "outputs": [
    {
     "name": "stdout",
     "output_type": "stream",
     "text": [
      "Curso Id: 1000, Titulo: Ciencia de Dados, Categoria: Data Science \n",
      "\n",
      "Curso Id: 1001, Titulo: Big Data Fundamentos, Categoria: Big Data \n",
      "\n",
      "Curso Id: 1002, Titulo: Python Fundamentos, Categoria: Analise de Dados \n",
      "\n",
      "Curso Id: 1003, Titulo: Gestao de Dados com MongoDB, Categoria: Big Data \n",
      "\n",
      "Curso Id: 1004, Titulo: R Fundamentos, Categoria: Analise de Dados \n",
      "\n"
     ]
    }
   ],
   "source": [
    "# Selecionar todos os registros \n",
    "cur.execute('select * from cursos')\n",
    "\n",
    "# Recuperando os resultados \n",
    "recset = cur.fetchall()\n",
    "\n",
    "# Mostra de dados\n",
    "for rec in recset:\n",
    "    print('Curso Id: %d, Titulo: %s, Categoria: %s \\n'% rec)"
   ]
  },
  {
   "cell_type": "code",
   "execution_count": 23,
   "id": "e97fa79a",
   "metadata": {},
   "outputs": [],
   "source": [
    "# Fechando a conexao\n",
    "con.close()"
   ]
  },
  {
   "cell_type": "code",
   "execution_count": null,
   "id": "14deedfd",
   "metadata": {},
   "outputs": [],
   "source": []
  }
 ],
 "metadata": {
  "kernelspec": {
   "display_name": "Python 3 (ipykernel)",
   "language": "python",
   "name": "python3"
  },
  "language_info": {
   "codemirror_mode": {
    "name": "ipython",
    "version": 3
   },
   "file_extension": ".py",
   "mimetype": "text/x-python",
   "name": "python",
   "nbconvert_exporter": "python",
   "pygments_lexer": "ipython3",
   "version": "3.7.7"
  }
 },
 "nbformat": 4,
 "nbformat_minor": 5
}
